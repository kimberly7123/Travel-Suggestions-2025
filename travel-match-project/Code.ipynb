{
 "cells": [
  {
   "cell_type": "code",
   "execution_count": 292,
   "metadata": {},
   "outputs": [
    {
     "name": "stdout",
     "output_type": "stream",
     "text": [
      "Welcome to your Travel Suggestion for 2025! We will match you to a travel destination based on your answers in a few rounds of questions and traveling data results.\n"
     ]
    }
   ],
   "source": [
    "from key import api_key\n",
    "import requests\n",
    "import pandas as pd \n",
    "\n",
    "#read all csv files and make the travel destinations be the index\n",
    "states = pd.read_csv(\"state_travel.csv\")\n",
    "international = pd.read_csv(\"international_travel.csv\")\n",
    "#states.head(20)\n",
    "#international.head(50)\n",
    "\n",
    "# API Links\n",
    "#response = requests.get(\"https://api.openweathermap.org/data/3.0/onecall/overview?lat={lat}&lon={lon}&appid={api_key}\")\n",
    "#api_url = f\"https://api.openweathermap.org/data/3.0/onecall/overview?lat={lat}&lon={lon}&appid={api_key}\"\n",
    "\n",
    "# First we'll introduce the project to the user and ask the first questions to start l_ooking at locations\n",
    "print('Welcome to your Travel Suggestion for 2025! We will match you to a travel destination based on your answers in a few rounds of questions and traveling data results.')\n",
    "location = input(f\"First up, would you like to find a travel location internationally or within the U.S.?\") # ERROR HANDLING to ensure answer can only be international or local -> Please enter either 'international' or 'local' for travel locations within the U.S."
   ]
  },
  {
   "cell_type": "code",
   "execution_count": 293,
   "metadata": {},
   "outputs": [
    {
     "data": {
      "text/html": [
       "<div>\n",
       "<style scoped>\n",
       "    .dataframe tbody tr th:only-of-type {\n",
       "        vertical-align: middle;\n",
       "    }\n",
       "\n",
       "    .dataframe tbody tr th {\n",
       "        vertical-align: top;\n",
       "    }\n",
       "\n",
       "    .dataframe thead th {\n",
       "        text-align: right;\n",
       "    }\n",
       "</style>\n",
       "<table border=\"1\" class=\"dataframe\">\n",
       "  <thead>\n",
       "    <tr style=\"text-align: right;\">\n",
       "      <th></th>\n",
       "      <th>State</th>\n",
       "      <th>Category</th>\n",
       "      <th>2022</th>\n",
       "    </tr>\n",
       "  </thead>\n",
       "  <tbody>\n",
       "    <tr>\n",
       "      <th>48</th>\n",
       "      <td>Florida</td>\n",
       "      <td>Passengers</td>\n",
       "      <td>67633390</td>\n",
       "    </tr>\n",
       "    <tr>\n",
       "      <th>24</th>\n",
       "      <td>California</td>\n",
       "      <td>Passengers</td>\n",
       "      <td>65118712</td>\n",
       "    </tr>\n",
       "    <tr>\n",
       "      <th>252</th>\n",
       "      <td>Texas</td>\n",
       "      <td>Passengers</td>\n",
       "      <td>64340646</td>\n",
       "    </tr>\n",
       "    <tr>\n",
       "      <th>54</th>\n",
       "      <td>Georgia</td>\n",
       "      <td>Passengers</td>\n",
       "      <td>34513197</td>\n",
       "    </tr>\n",
       "    <tr>\n",
       "      <th>186</th>\n",
       "      <td>New York</td>\n",
       "      <td>Passengers</td>\n",
       "      <td>30883848</td>\n",
       "    </tr>\n",
       "    <tr>\n",
       "      <th>72</th>\n",
       "      <td>Illinois</td>\n",
       "      <td>Passengers</td>\n",
       "      <td>30209478</td>\n",
       "    </tr>\n",
       "    <tr>\n",
       "      <th>30</th>\n",
       "      <td>Colorado</td>\n",
       "      <td>Passengers</td>\n",
       "      <td>26437721</td>\n",
       "    </tr>\n",
       "    <tr>\n",
       "      <th>192</th>\n",
       "      <td>North Carolina</td>\n",
       "      <td>Passengers</td>\n",
       "      <td>23115318</td>\n",
       "    </tr>\n",
       "    <tr>\n",
       "      <th>162</th>\n",
       "      <td>Nevada</td>\n",
       "      <td>Passengers</td>\n",
       "      <td>19211149</td>\n",
       "    </tr>\n",
       "    <tr>\n",
       "      <th>276</th>\n",
       "      <td>Washington</td>\n",
       "      <td>Passengers</td>\n",
       "      <td>18077810</td>\n",
       "    </tr>\n",
       "  </tbody>\n",
       "</table>\n",
       "</div>"
      ],
      "text/plain": [
       "              State    Category      2022\n",
       "48          Florida  Passengers  67633390\n",
       "24       California  Passengers  65118712\n",
       "252           Texas  Passengers  64340646\n",
       "54          Georgia  Passengers  34513197\n",
       "186        New York  Passengers  30883848\n",
       "72         Illinois  Passengers  30209478\n",
       "30         Colorado  Passengers  26437721\n",
       "192  North Carolina  Passengers  23115318\n",
       "162          Nevada  Passengers  19211149\n",
       "276      Washington  Passengers  18077810"
      ]
     },
     "execution_count": 293,
     "metadata": {},
     "output_type": "execute_result"
    }
   ],
   "source": [
    "# Organize and find top 10 for INTERNATIONAL destinations and LOCAL/U.S. STATE destinations #\n",
    "\n",
    "#International dataset contains data from 1970-2020 for each country, NaN values, and other components as well. The use of filtering, conditions, and dropping missing values will be needed to help find the 10 countries with the largest amounts of traveling in a year and not including the U.S.\n",
    "travel_year = international[international['Year'] == 2019] \n",
    "countries_only = travel_year[travel_year['Code'].str.len() <= 3].dropna()\n",
    "international_only = countries_only[countries_only['Code'] != 'USA']\n",
    "highest_international = international_only.nlargest(10, \"Air transport, passengers carried\")\n",
    "highest_international\n",
    "\n",
    "#State dataset contains only values from 2022 so no filtering by year will be needed. However the dataset does contain multiple categories for each state so we will need to filter in order to only obtain the 'Passenger' values\n",
    "states_passengers = states[states['Category'] == 'Passengers'].dropna()\n",
    "states_passengers['2022'] = states_passengers['2022'].str.replace(\",\", \"\").round().astype(int)\n",
    "states_highest = states_passengers.nlargest(10, '2022')\n",
    "states_highest\n"
   ]
  },
  {
   "cell_type": "code",
   "execution_count": 294,
   "metadata": {},
   "outputs": [
    {
     "name": "stdout",
     "output_type": "stream",
     "text": [
      "You selected to find a travel destination internationally! Here is a look at the top 10 most traveled countries around the world:\n"
     ]
    },
    {
     "data": {
      "image/png": "[encoded data removed]",
      "text/plain": [
       "<Figure size 640x480 with 1 Axes>"
      ]
     },
     "metadata": {},
     "output_type": "display_data"
    },
    {
     "data": {
      "text/plain": [
       "<Figure size 1200x300 with 0 Axes>"
      ]
     },
     "metadata": {},
     "output_type": "display_data"
    }
   ],
   "source": [
    "# Create visual graphs to show top 10 travel destinations based on what the user selected #\n",
    "import matplotlib.pyplot as plt\n",
    "import seaborn as sb\n",
    "\n",
    "if (location == 'state'):\n",
    "    print('You selected to find a travel destination within the U.S.! Here is a look at the top 10 most traveled states within the U.S.:')\n",
    "    \n",
    "    plt.plot(states_highest['State'], states_highest['2022'], color = 'red')\n",
    "    plt.title('Top 10 Traveled States')\n",
    "    plt.ylabel('Populations traveled (in millions)')\n",
    "    plt.style.use('dark_background')\n",
    "    plt.figure(figsize=(12, 3))\n",
    "    plt.show\n",
    "    \n",
    "else: \n",
    "    print('You selected to find a travel destination internationally! Here is a look at the top 10 most traveled countries around the world:')\n",
    "    \n",
    "    plt.scatter(highest_international['Entity'], highest_international['Air transport, passengers carried'], color = 'cyan')\n",
    "    plt.title('Top 10 Traveled Countries')\n",
    "    plt.ylabel('Populations traveled (in millions)')\n",
    "    plt.style.use('dark_background')\n",
    "    plt.figure(figsize= (12, 3))\n",
    "    plt.show"
   ]
  },
  {
   "cell_type": "code",
   "execution_count": null,
   "metadata": {},
   "outputs": [],
   "source": [
    "# Ask additional questions to begin eliminating non-matches in their suggestions #\n",
    "seasons = input(\"Does your ideal travel have seasons, is sunny all the time, or is snowy and cold?\")\n",
    "# Error handling to ensure answer is either 'sunny', 'seasons', or 'snowy'\n",
    "historical_places = input(\"Does your ideal travel include more historical places or attractions?\") \n",
    "# Error handling to ensure answer is yes or no\n",
    "expected_cost = int(input(\"What is your expected cost (per person) for a week of vacation in USD? (Note: Average costs based on results are from $350-$2,000)\"))\n",
    "# Error handling to ensure only integer numbers are accepted and if it is less than 350 ask user to enter a higher number "
   ]
  },
  {
   "cell_type": "code",
   "execution_count": null,
   "metadata": {},
   "outputs": [],
   "source": [
    "# Use OOP here to match and create rounds based on answers and responses"
   ]
  },
  {
   "cell_type": "code",
   "execution_count": null,
   "metadata": {},
   "outputs": [],
   "source": [
    "# PARENT CLASSES will be used for both INTERNATIONAL and LOCAL locations. Will give a overview of their matched final location and its most popular travel destination #\n",
    "class travel_locations:\n",
    "    def __int__(self, location, travel_destination):\n",
    "        self.location = location\n",
    "        self.travel_destination = travel_destination\n",
    "    \n",
    "    def final_location(self):\n",
    "        return f\"Based on your answers, your travel match is {self.location}! They're most popular travel destinations are located in {self.travel_destination}.\"\n",
    "    \n",
    "# CHILD CLASSES will be used to detail their travel location and match with their answers #\n",
    "class travel_details(travel_locations):\n",
    "    def __init__(self, location, travel_destination, seasons, historical_places, expected_cost):\n",
    "        super().__init__(self, location, travel_destination)\n",
    "        self.seasons = seasons\n",
    "        self.historical_places = historical_places\n",
    "        self.expected_cost = expected_cost\n",
    "        \n",
    "        def answers_detailed(self):\n",
    "            return f\"Known for their {self.historical_places}, {self.location} is a {self.seasons} destination place with an average expected cost of {self.expected_cost} per week.\""
   ]
  },
  {
   "cell_type": "code",
   "execution_count": null,
   "metadata": {},
   "outputs": [],
   "source": [
    "# Instances for INTERNATIONAL locations: Includes the top 10 coutries traveled and related information #\n",
    "china = (\"China\", \"Beijing\")\n",
    "ireland = (\"Ireland\", \"Dublin\")\n",
    "india = (\"India\", \"Agra\")\n",
    "united_kingdom = (\"United Kingdom\", \"London\")\n",
    "japan = (\"Japan\", \"Tokyo\")\n",
    "turkey = (\"Turkey\", \"Istanbul\")\n",
    "germany = (\"Germany\", \"Berlin\")\n",
    "russia = (\"Russia\", \"Moscow\")\n",
    "brazil = (\"Brazil\", \"Rio de Janeiro\")\n",
    "united_arab_emirates = (\"United Arab Emirates\", \"Dubai\")\n",
    "\n",
    "# historical: China, Ireland, India, United Kingdom, Germany, Russia\n",
    "# attractions: Japan, Turkey, Brazil, United Arab Emirates\n",
    "# both: Turkey & United Kingdom\n",
    "\n",
    "# Average costs per person in a week: China = $660, Ireland = $1,400, India = $350->$500, United Kingdom = $1,800->$2,200, Japan = $1,600->$2,000, Turkey = $900-$1,200, Germany = $1,500, Russia = $1,000->$1,500, Brazil = $700->$1,200, United Arab Emirates = $1,800->$2,500"
   ]
  },
  {
   "cell_type": "code",
   "execution_count": null,
   "metadata": {},
   "outputs": [],
   "source": [
    "# Instances for LOCAL locations: Includes the top 10 states traveled and related information #\n",
    "\n",
    "florida = (\"Florida\", \"Miami\")\n",
    "california = (\"California\", \"Los Angeles & San Francisco\")\n",
    "texas = (\"Texas\", \"Austin\")\n",
    "georgia = (\"Georgia\", \"Atlanta\")\n",
    "new_york = (\"New York\", \"New York City\")\n",
    "illinois = (\"Illinois\", \"Chicago\")\n",
    "colorado = (\"Colorado\", \"Denver\")\n",
    "north_carolina = (\"North Carolina\", \"Charlott & Outer Banks\")\n",
    "nevada = (\"Nevada\", \"Las Vegas\")\n",
    "washington = (\"Washington\", \"Seattle\")\n",
    "\n",
    "# historical: Georgia, Illinois, New York, Washington\n",
    "# attractions: Florida, California, Texas, Nevada, North Carolina, Colorado\n",
    "# both: New York, California\n",
    "\n",
    "# Average costs per person in a week: Florida=$1500->$2000, California=$1800->$2500, Texas=$1200->$1800, Georgia=$1200->$1800, New York=$2000->$2500, Illinois=$1,500->$2200, Colorado=$1500->$2000, North Carolina=$1200->$1700, Nevada=$1500->$2500, Washington=$1500->$2000"
   ]
  },
  {
   "cell_type": "code",
   "execution_count": null,
   "metadata": {},
   "outputs": [],
   "source": [
    "\n",
    "# weather will be use of API call month and weather based on state or country. Condition statement will need to be created in order to ensure top 10 locations are placed within the three options and we filter out the options that dont match with response (if they choose sunny vs winter)\n"
   ]
  },
  {
   "cell_type": "code",
   "execution_count": null,
   "metadata": {},
   "outputs": [],
   "source": [
    "\n",
    "# Final results #\n",
    "\n",
    "# API usage will include the Open Weather in order to look at current temperatures in matched travel destinations \n",
    "# print(f\"Congratulations, your Travel 2025 suggestion is in {final_results}! The current weather there today is {final_weather} and it is looking {final_state}. Below you will see further statistics and reports for {final_result}!\")\n",
    "# enter gif throguh giphy image API to lookup matching image to country or state\n",
    "# data visualization use of graph to show how popular your travel location is in the month you travel vs year\n",
    "# print(f\"Hope you find {final result} as a perfect travel match! Thank you for participating!')\n"
   ]
  }
 ],
 "metadata": {
  "kernelspec": {
   "display_name": "Python 3",
   "language": "python",
   "name": "python3"
  },
  "language_info": {
   "codemirror_mode": {
    "name": "ipython",
    "version": 3
   },
   "file_extension": ".py",
   "mimetype": "text/x-python",
   "name": "python",
   "nbconvert_exporter": "python",
   "pygments_lexer": "ipython3",
   "version": "3.12.0"
  }
 },
 "nbformat": 4,
 "nbformat_minor": 2
}

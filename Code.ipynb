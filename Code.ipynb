{
 "cells": [
  {
   "cell_type": "code",
   "execution_count": null,
   "metadata": {},
   "outputs": [
    {
     "name": "stdout",
     "output_type": "stream",
     "text": [
      "Welcome to your Travel Suggestion for 2025! We will match you to a travel destination based on your answers in a few rounds of questions and traveling data results.\n"
     ]
    }
   ],
   "source": [
    "from key import api_key\n",
    "import requests\n",
    "import pandas as pd \n",
    "\n",
    "#read all csv files and make the travel destinations be the index\n",
    "states = pd.read_csv(\"state_travel.csv\")\n",
    "international = pd.read_csv(\"international_travel.csv\")\n",
    "#states.head(20)\n",
    "#international.head(50)\n",
    "\n",
    "# API Links\n",
    "#response = requests.get(\"https://api.openweathermap.org/data/3.0/onecall/overview?lat={lat}&lon={lon}&appid={api_key}\")\n",
    "#api_url = f\"https://api.openweathermap.org/data/3.0/onecall/overview?lat={lat}&lon={lon}&appid={api_key}\"\n",
    "\n",
    "# First we'll introduce the project to the user and ask the first questions to start l_ooking at locations\n",
    "print('Welcome to your Travel Suggestion for 2025! We will match you to a travel destination based on your answers in a few rounds of questions and traveling data results.')\n",
    "location = input(f\"First up, would you like to find a travel location internationally or within the U.S.?\") # ERROR HANDLING to ensure answer can only be international or local -> Please enter either 'international' or 'local' for travel locations within the U.S."
   ]
  },
  {
   "cell_type": "code",
   "execution_count": 285,
   "metadata": {},
   "outputs": [
    {
     "data": {
      "text/html": [
       "<div>\n",
       "<style scoped>\n",
       "    .dataframe tbody tr th:only-of-type {\n",
       "        vertical-align: middle;\n",
       "    }\n",
       "\n",
       "    .dataframe tbody tr th {\n",
       "        vertical-align: top;\n",
       "    }\n",
       "\n",
       "    .dataframe thead th {\n",
       "        text-align: right;\n",
       "    }\n",
       "</style>\n",
       "<table border=\"1\" class=\"dataframe\">\n",
       "  <thead>\n",
       "    <tr style=\"text-align: right;\">\n",
       "      <th></th>\n",
       "      <th>State</th>\n",
       "      <th>Category</th>\n",
       "      <th>2022</th>\n",
       "    </tr>\n",
       "  </thead>\n",
       "  <tbody>\n",
       "    <tr>\n",
       "      <th>48</th>\n",
       "      <td>Florida</td>\n",
       "      <td>Passengers</td>\n",
       "      <td>67633390</td>\n",
       "    </tr>\n",
       "    <tr>\n",
       "      <th>24</th>\n",
       "      <td>California</td>\n",
       "      <td>Passengers</td>\n",
       "      <td>65118712</td>\n",
       "    </tr>\n",
       "    <tr>\n",
       "      <th>252</th>\n",
       "      <td>Texas</td>\n",
       "      <td>Passengers</td>\n",
       "      <td>64340646</td>\n",
       "    </tr>\n",
       "    <tr>\n",
       "      <th>54</th>\n",
       "      <td>Georgia</td>\n",
       "      <td>Passengers</td>\n",
       "      <td>34513197</td>\n",
       "    </tr>\n",
       "    <tr>\n",
       "      <th>186</th>\n",
       "      <td>New York</td>\n",
       "      <td>Passengers</td>\n",
       "      <td>30883848</td>\n",
       "    </tr>\n",
       "    <tr>\n",
       "      <th>72</th>\n",
       "      <td>Illinois</td>\n",
       "      <td>Passengers</td>\n",
       "      <td>30209478</td>\n",
       "    </tr>\n",
       "    <tr>\n",
       "      <th>30</th>\n",
       "      <td>Colorado</td>\n",
       "      <td>Passengers</td>\n",
       "      <td>26437721</td>\n",
       "    </tr>\n",
       "    <tr>\n",
       "      <th>192</th>\n",
       "      <td>North Carolina</td>\n",
       "      <td>Passengers</td>\n",
       "      <td>23115318</td>\n",
       "    </tr>\n",
       "    <tr>\n",
       "      <th>162</th>\n",
       "      <td>Nevada</td>\n",
       "      <td>Passengers</td>\n",
       "      <td>19211149</td>\n",
       "    </tr>\n",
       "    <tr>\n",
       "      <th>276</th>\n",
       "      <td>Washington</td>\n",
       "      <td>Passengers</td>\n",
       "      <td>18077810</td>\n",
       "    </tr>\n",
       "  </tbody>\n",
       "</table>\n",
       "</div>"
      ],
      "text/plain": [
       "              State    Category      2022\n",
       "48          Florida  Passengers  67633390\n",
       "24       California  Passengers  65118712\n",
       "252           Texas  Passengers  64340646\n",
       "54          Georgia  Passengers  34513197\n",
       "186        New York  Passengers  30883848\n",
       "72         Illinois  Passengers  30209478\n",
       "30         Colorado  Passengers  26437721\n",
       "192  North Carolina  Passengers  23115318\n",
       "162          Nevada  Passengers  19211149\n",
       "276      Washington  Passengers  18077810"
      ]
     },
     "execution_count": 285,
     "metadata": {},
     "output_type": "execute_result"
    }
   ],
   "source": [
    "# Organize and find top 10 for INTERNATIONAL destinations and LOCAL/U.S. STATE destinations #\n",
    "\n",
    "#International dataset contains data from 1970-2020 for each country, NaN values, and other components as well. The use of filtering, conditions, and dropping missing values will be needed to help find the 10 countries with the largest amounts of traveling in a year and not including the U.S.\n",
    "travel_year = international[international['Year'] == 2019] \n",
    "countries_only = travel_year[travel_year['Code'].str.len() <= 3].dropna()\n",
    "international_only = countries_only[countries_only['Code'] != 'USA']\n",
    "highest_international = international_only.nlargest(10, \"Air transport, passengers carried\")\n",
    "highest_international\n",
    "\n",
    "#State dataset contains only values from 2022 so no filtering by year will be needed. However the dataset does contain multiple categories for each state so we will need to filter in order to only obtain the 'Passenger' values\n",
    "states_passengers = states[states['Category'] == 'Passengers'].dropna()\n",
    "states_passengers['2022'] = states_passengers['2022'].str.replace(\",\", \"\").round().astype(int)\n",
    "states_highest = states_passengers.nlargest(10, '2022')\n",
    "states_highest\n"
   ]
  },
  {
   "cell_type": "code",
   "execution_count": 290,
   "metadata": {},
   "outputs": [
    {
     "name": "stdout",
     "output_type": "stream",
     "text": [
      "You selected to find a travel destination within the U.S.! Here is a look at the top 10 most traveled states within the U.S.:\n"
     ]
    },
    {
     "data": {
      "image/png": "[encoded data removed]",
      "text/plain": [
       "<Figure size 640x480 with 1 Axes>"
      ]
     },
     "metadata": {},
     "output_type": "display_data"
    },
    {
     "data": {
      "text/plain": [
       "<Figure size 1200x300 with 0 Axes>"
      ]
     },
     "metadata": {},
     "output_type": "display_data"
    }
   ],
   "source": [
    "# Create visual graphs to show top 10 travel destinations based on what the user selected #\n",
    "import matplotlib.pyplot as plt\n",
    "import seaborn as sb\n",
    "\n",
    "if (location == 'state'):\n",
    "    print('You selected to find a travel destination within the U.S.! Here is a look at the top 10 most traveled states within the U.S.:')\n",
    "    \n",
    "    plt.plot(states_highest['State'], states_highest['2022'], color = 'red')\n",
    "    plt.title('Top 10 Traveled States')\n",
    "    plt.ylabel('Populations traveled (in millions)')\n",
    "    plt.style.use('dark_background')\n",
    "    plt.figure(figsize=(12, 3))\n",
    "    plt.show\n",
    "    \n",
    "else: \n",
    "    print('You selected to find a travel destination internationally! Here is a look at the top 10 most traveled countries around the world:')\n",
    "    \n",
    "    plt.scatter(highest_international['Entity'], highest_international['Air transport, passengers carried'], color = 'cyan')\n",
    "    plt.title('Top 10 Traveled Countries')\n",
    "    plt.ylabel('Populations traveled (in millions)')\n",
    "    plt.style.use('dark_background')\n",
    "    plt.figure(figsize= (12, 3))\n",
    "    plt.show"
   ]
  },
  {
   "cell_type": "code",
   "execution_count": null,
   "metadata": {},
   "outputs": [
    {
     "ename": "SyntaxError",
     "evalue": "incomplete input (2542801205.py, line 28)",
     "output_type": "error",
     "traceback": [
      "\u001b[0;36m  Cell \u001b[0;32mIn[291], line 28\u001b[0;36m\u001b[0m\n\u001b[0;31m    # ask how long they plan on staying in terms of days?\u001b[0m\n\u001b[0m                                                         ^\u001b[0m\n\u001b[0;31mSyntaxError\u001b[0m\u001b[0;31m:\u001b[0m incomplete input\n"
     ]
    }
   ],
   "source": [
    "# ask what month do they have in mind?\n",
    "month = int(input(\"What month do you plan on traveling?\")) # Error handling to ensure answer is a number between 1 and 12 \n",
    "temp = input(\"Does your travel have seasons, is sunny all the time, or is snowy and cold?\") # Error handling to ensure answer is either 'sunny', 'seasons', or 'snowy'\n",
    "\n",
    "# PARENT CLASSES #\n",
    "class international:\n",
    "    def __int__(self, country, month, capital_city):\n",
    "        self.country = country\n",
    "        self.month - month \n",
    "        self.capital_city = capital_city\n",
    "    \n",
    "    def questions_international(self):\n",
    "\n",
    "#class local: "
   ]
  },
  {
   "cell_type": "code",
   "execution_count": null,
   "metadata": {},
   "outputs": [],
   "source": [
    "# CHILD CLASSES\n",
    "# ask extra questions: expected price/budget, vacation type, weather and match based on user response answers\n",
    "# before price/budget ask who will they be traveling with? Select from the options single, family, or with friends? \n",
    "# ERROR HANDLING: answer must only be within the three options\n",
    "# price/budget group the top 10 into expected budget. Let user know we will try to align the location as close as possible but it will be an estimate not an exact factor - use OOP for a round\n",
    "# vacation type will be csv\n",
    "# weather will be use of API call month and weather based on state or country. Condition statement will need to be created in order to ensure top 10 locations are placed within the three options and we filter out the options that dont match with response (if they choose sunny vs winter)\n"
   ]
  },
  {
   "cell_type": "code",
   "execution_count": null,
   "metadata": {},
   "outputs": [],
   "source": [
    "\n",
    "# Final results #\n",
    "\n",
    "# API usage will include the Open Weather in order to look at current temperatures in matched travel destinations \n",
    "# print(f\"Congratulations, your Travel 2025 suggestion is in {final_results}! The current weather there today is {final_weather} and it is looking {final_state}. Below you will see further statistics and reports for {final_result}!\")\n",
    "# enter gif throguh giphy image API to lookup matching image to country or state\n",
    "# data visualization use of graph to show how popular your travel location is in the month you travel vs year\n",
    "# print(f\"Hope you find {final result} as a perfect travel match! Thank you for participating!')\n"
   ]
  }
 ],
 "metadata": {
  "kernelspec": {
   "display_name": "Python 3",
   "language": "python",
   "name": "python3"
  },
  "language_info": {
   "codemirror_mode": {
    "name": "ipython",
    "version": 3
   },
   "file_extension": ".py",
   "mimetype": "text/x-python",
   "name": "python",
   "nbconvert_exporter": "python",
   "pygments_lexer": "ipython3",
   "version": "3.12.0"
  }
 },
 "nbformat": 4,
 "nbformat_minor": 2
}
